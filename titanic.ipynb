{
 "cells": [
  {
   "cell_type": "code",
   "execution_count": 19,
   "id": "e74f90f00ad38a72",
   "metadata": {
    "ExecuteTime": {
     "end_time": "2025-06-21T07:07:59.611413Z",
     "start_time": "2025-06-21T07:07:59.599381Z"
    }
   },
   "outputs": [],
   "source": [
    "import pandas as pd\n",
    "import numpy as np\n",
    "import seaborn as sns\n",
    "from sklearn.ensemble import RandomForestClassifier\n",
    "from sklearn.model_selection import train_test_split\n",
    "from sklearn.tree import DecisionTreeClassifier\n",
    "from sklearn.metrics import mean_squared_error\n",
    "from matplotlib import pyplot as plt"
   ]
  },
  {
   "cell_type": "code",
   "execution_count": 20,
   "id": "48458624404e4c41",
   "metadata": {
    "ExecuteTime": {
     "end_time": "2025-06-21T07:07:59.643489Z",
     "start_time": "2025-06-21T07:07:59.621439Z"
    }
   },
   "outputs": [],
   "source": [
    "training_set = pd.read_csv('datasets/train.csv')\n",
    "test_set = pd.read_csv('datasets/test.csv')"
   ]
  },
  {
   "cell_type": "code",
   "execution_count": 21,
   "id": "b72c425f34f863ef",
   "metadata": {
    "ExecuteTime": {
     "end_time": "2025-06-21T07:07:59.690617Z",
     "start_time": "2025-06-21T07:07:59.676578Z"
    }
   },
   "outputs": [
    {
     "data": {
      "text/html": [
       "<div>\n",
       "<style scoped>\n",
       "    .dataframe tbody tr th:only-of-type {\n",
       "        vertical-align: middle;\n",
       "    }\n",
       "\n",
       "    .dataframe tbody tr th {\n",
       "        vertical-align: top;\n",
       "    }\n",
       "\n",
       "    .dataframe thead th {\n",
       "        text-align: right;\n",
       "    }\n",
       "</style>\n",
       "<table border=\"1\" class=\"dataframe\">\n",
       "  <thead>\n",
       "    <tr style=\"text-align: right;\">\n",
       "      <th></th>\n",
       "      <th>PassengerId</th>\n",
       "      <th>Survived</th>\n",
       "      <th>Pclass</th>\n",
       "      <th>Age</th>\n",
       "      <th>SibSp</th>\n",
       "      <th>Parch</th>\n",
       "      <th>Fare</th>\n",
       "    </tr>\n",
       "  </thead>\n",
       "  <tbody>\n",
       "    <tr>\n",
       "      <th>count</th>\n",
       "      <td>891.000000</td>\n",
       "      <td>891.000000</td>\n",
       "      <td>891.000000</td>\n",
       "      <td>714.000000</td>\n",
       "      <td>891.000000</td>\n",
       "      <td>891.000000</td>\n",
       "      <td>891.000000</td>\n",
       "    </tr>\n",
       "    <tr>\n",
       "      <th>mean</th>\n",
       "      <td>446.000000</td>\n",
       "      <td>0.383838</td>\n",
       "      <td>2.308642</td>\n",
       "      <td>29.699118</td>\n",
       "      <td>0.523008</td>\n",
       "      <td>0.381594</td>\n",
       "      <td>32.204208</td>\n",
       "    </tr>\n",
       "    <tr>\n",
       "      <th>std</th>\n",
       "      <td>257.353842</td>\n",
       "      <td>0.486592</td>\n",
       "      <td>0.836071</td>\n",
       "      <td>14.526497</td>\n",
       "      <td>1.102743</td>\n",
       "      <td>0.806057</td>\n",
       "      <td>49.693429</td>\n",
       "    </tr>\n",
       "    <tr>\n",
       "      <th>min</th>\n",
       "      <td>1.000000</td>\n",
       "      <td>0.000000</td>\n",
       "      <td>1.000000</td>\n",
       "      <td>0.420000</td>\n",
       "      <td>0.000000</td>\n",
       "      <td>0.000000</td>\n",
       "      <td>0.000000</td>\n",
       "    </tr>\n",
       "    <tr>\n",
       "      <th>25%</th>\n",
       "      <td>223.500000</td>\n",
       "      <td>0.000000</td>\n",
       "      <td>2.000000</td>\n",
       "      <td>20.125000</td>\n",
       "      <td>0.000000</td>\n",
       "      <td>0.000000</td>\n",
       "      <td>7.910400</td>\n",
       "    </tr>\n",
       "    <tr>\n",
       "      <th>50%</th>\n",
       "      <td>446.000000</td>\n",
       "      <td>0.000000</td>\n",
       "      <td>3.000000</td>\n",
       "      <td>28.000000</td>\n",
       "      <td>0.000000</td>\n",
       "      <td>0.000000</td>\n",
       "      <td>14.454200</td>\n",
       "    </tr>\n",
       "    <tr>\n",
       "      <th>75%</th>\n",
       "      <td>668.500000</td>\n",
       "      <td>1.000000</td>\n",
       "      <td>3.000000</td>\n",
       "      <td>38.000000</td>\n",
       "      <td>1.000000</td>\n",
       "      <td>0.000000</td>\n",
       "      <td>31.000000</td>\n",
       "    </tr>\n",
       "    <tr>\n",
       "      <th>max</th>\n",
       "      <td>891.000000</td>\n",
       "      <td>1.000000</td>\n",
       "      <td>3.000000</td>\n",
       "      <td>80.000000</td>\n",
       "      <td>8.000000</td>\n",
       "      <td>6.000000</td>\n",
       "      <td>512.329200</td>\n",
       "    </tr>\n",
       "  </tbody>\n",
       "</table>\n",
       "</div>"
      ],
      "text/plain": [
       "       PassengerId    Survived      Pclass         Age       SibSp  \\\n",
       "count   891.000000  891.000000  891.000000  714.000000  891.000000   \n",
       "mean    446.000000    0.383838    2.308642   29.699118    0.523008   \n",
       "std     257.353842    0.486592    0.836071   14.526497    1.102743   \n",
       "min       1.000000    0.000000    1.000000    0.420000    0.000000   \n",
       "25%     223.500000    0.000000    2.000000   20.125000    0.000000   \n",
       "50%     446.000000    0.000000    3.000000   28.000000    0.000000   \n",
       "75%     668.500000    1.000000    3.000000   38.000000    1.000000   \n",
       "max     891.000000    1.000000    3.000000   80.000000    8.000000   \n",
       "\n",
       "            Parch        Fare  \n",
       "count  891.000000  891.000000  \n",
       "mean     0.381594   32.204208  \n",
       "std      0.806057   49.693429  \n",
       "min      0.000000    0.000000  \n",
       "25%      0.000000    7.910400  \n",
       "50%      0.000000   14.454200  \n",
       "75%      0.000000   31.000000  \n",
       "max      6.000000  512.329200  "
      ]
     },
     "execution_count": 21,
     "metadata": {},
     "output_type": "execute_result"
    }
   ],
   "source": [
    "training_set.describe()"
   ]
  },
  {
   "cell_type": "code",
   "execution_count": 22,
   "id": "d39f041c8ce9ea72",
   "metadata": {
    "ExecuteTime": {
     "end_time": "2025-06-21T07:07:59.848643Z",
     "start_time": "2025-06-21T07:07:59.755400Z"
    }
   },
   "outputs": [
    {
     "data": {
      "text/plain": [
       "<Axes: xlabel='Survived', ylabel='count'>"
      ]
     },
     "execution_count": 22,
     "metadata": {},
     "output_type": "execute_result"
    },
    {
     "data": {
      "image/png": "[encoded data removed]",
      "text/plain": [
       "<Figure size 640x480 with 1 Axes>"
      ]
     },
     "metadata": {},
     "output_type": "display_data"
    }
   ],
   "source": [
    "sns.countplot(x='Survived', data=training_set)"
   ]
  },
  {
   "cell_type": "code",
   "execution_count": 23,
   "id": "fbb1da9a916a9d54",
   "metadata": {
    "ExecuteTime": {
     "end_time": "2025-06-21T07:08:00.021439Z",
     "start_time": "2025-06-21T07:07:59.897772Z"
    }
   },
   "outputs": [
    {
     "data": {
      "text/plain": [
       "<Axes: xlabel='Age', ylabel='Survived'>"
      ]
     },
     "execution_count": 23,
     "metadata": {},
     "output_type": "execute_result"
    },
    {
     "data": {
      "image/png": "[encoded data removed]",
      "text/plain": [
       "<Figure size 640x480 with 1 Axes>"
      ]
     },
     "metadata": {},
     "output_type": "display_data"
    }
   ],
   "source": [
    "age_bins = [0, 10, 20, 30, 40, 50, 60, 70, 80, 90, 100]\n",
    "cut_ages = pd.cut(training_set['Age'], bins=age_bins, right=False)\n",
    "plt.xticks(rotation=90)\n",
    "sns.barplot(x=cut_ages, y='Survived', data=training_set, errorbar=None)"
   ]
  },
  {
   "cell_type": "code",
   "execution_count": 24,
   "id": "122fe19ab45ba596",
   "metadata": {
    "ExecuteTime": {
     "end_time": "2025-06-21T07:08:00.115865Z",
     "start_time": "2025-06-21T07:08:00.031465Z"
    }
   },
   "outputs": [
    {
     "data": {
      "text/plain": [
       "<Axes: xlabel='Pclass', ylabel='Survived'>"
      ]
     },
     "execution_count": 24,
     "metadata": {},
     "output_type": "execute_result"
    },
    {
     "data": {
      "image/png": "[encoded data removed]",
      "text/plain": [
       "<Figure size 640x480 with 1 Axes>"
      ]
     },
     "metadata": {},
     "output_type": "display_data"
    }
   ],
   "source": [
    "sns.barplot(x='Pclass', y='Survived', data=training_set, errorbar=None)"
   ]
  },
  {
   "cell_type": "code",
   "execution_count": 25,
   "id": "46babbf3b9ef2eed",
   "metadata": {
    "ExecuteTime": {
     "end_time": "2025-06-21T07:08:00.163651Z",
     "start_time": "2025-06-21T07:08:00.149615Z"
    }
   },
   "outputs": [
    {
     "data": {
      "text/plain": [
       "Cabin          687\n",
       "Age            177\n",
       "Embarked         2\n",
       "PassengerId      0\n",
       "Name             0\n",
       "Pclass           0\n",
       "Survived         0\n",
       "Sex              0\n",
       "Parch            0\n",
       "SibSp            0\n",
       "Fare             0\n",
       "Ticket           0\n",
       "dtype: int64"
      ]
     },
     "execution_count": 25,
     "metadata": {},
     "output_type": "execute_result"
    }
   ],
   "source": [
    "training_set.isnull().sum().sort_values(ascending=False)"
   ]
  },
  {
   "cell_type": "code",
   "execution_count": 26,
   "id": "946581d0bc03397b",
   "metadata": {
    "ExecuteTime": {
     "end_time": "2025-06-21T07:08:41.220248Z",
     "start_time": "2025-06-21T07:08:41.210223Z"
    }
   },
   "outputs": [
    {
     "data": {
      "text/plain": [
       "Name\n",
       "Mr             502\n",
       "Miss           179\n",
       "Mrs            121\n",
       "Master          40\n",
       "Dr               7\n",
       "Rev              6\n",
       "                 4\n",
       "Planke           3\n",
       "Impe             3\n",
       "Mlle             2\n",
       "Gordon           2\n",
       "Major            2\n",
       "Col              2\n",
       "de               1\n",
       "Don              1\n",
       "Steen            1\n",
       "Mulder           1\n",
       "Pelsmaeker       1\n",
       "Walle            1\n",
       "Billiard         1\n",
       "Ms               1\n",
       "Carlo            1\n",
       "Mme              1\n",
       "Messemaeker      1\n",
       "Capt             1\n",
       "Velde            1\n",
       "th               1\n",
       "Shawah           1\n",
       "Jonkheer         1\n",
       "Melkebeke        1\n",
       "Cruyssen         1\n",
       "Name: count, dtype: int64"
      ]
     },
     "execution_count": 26,
     "metadata": {},
     "output_type": "execute_result"
    }
   ],
   "source": [
    "titles=training_set['Name'].map(lambda x: x.split(' ')[1][:-1])\n",
    "titles.value_counts().sort_values(ascending=False)\n",
    "training_set['Title'] = titles.map(lambda x: 0 if x in ['Mr', 'Mrs', 'Miss', 'Master'] else 1)\n",
    "titles.value_counts()"
   ]
  },
  {
   "cell_type": "code",
   "execution_count": 27,
   "id": "2cdd52624a729cd6",
   "metadata": {
    "ExecuteTime": {
     "end_time": "2025-06-21T07:08:00.495173Z",
     "start_time": "2025-06-21T07:08:00.480134Z"
    }
   },
   "outputs": [],
   "source": [
    "df_train, df_test = train_test_split(training_set, train_size=0.8)"
   ]
  },
  {
   "cell_type": "markdown",
   "id": "fdc793647e5e3d73",
   "metadata": {},
   "source": [
    "## 训练环节"
   ]
  },
  {
   "cell_type": "code",
   "execution_count": 28,
   "id": "a2de9250e4545dab",
   "metadata": {
    "ExecuteTime": {
     "end_time": "2025-06-21T07:08:00.541294Z",
     "start_time": "2025-06-21T07:08:00.527258Z"
    }
   },
   "outputs": [],
   "source": [
    "def rmse(y1,y2):\n",
    "    mse = mean_squared_error(y1, y2)\n",
    "    return np.sqrt(mse)"
   ]
  },
  {
   "cell_type": "code",
   "execution_count": 29,
   "id": "202f035acd0862be",
   "metadata": {
    "ExecuteTime": {
     "end_time": "2025-06-21T07:08:00.699268Z",
     "start_time": "2025-06-21T07:08:00.585410Z"
    }
   },
   "outputs": [],
   "source": [
    "# Train 1\n",
    "clf=RandomForestClassifier(max_depth=10, n_estimators=100)\n",
    "def train_1():\n",
    "    features = ['Age', 'Sex', 'Pclass']\n",
    "    X = pd.get_dummies(df_train[features])\n",
    "    y=df_train['Survived']\n",
    "    clf.fit(X, y)\n",
    "\n",
    "    X_test= pd.get_dummies(df_test[features])\n",
    "    result = clf.predict(X_test)\n",
    "    print(\"RMSE:\", rmse(df_test['Survived'], result))"
   ]
  },
  {
   "cell_type": "code",
   "execution_count": 30,
   "id": "7123fa40ff84bcab",
   "metadata": {
    "ExecuteTime": {
     "end_time": "2025-06-21T07:08:00.929832Z",
     "start_time": "2025-06-21T07:08:00.793383Z"
    }
   },
   "outputs": [],
   "source": [
    "# Train 2 with Title feature\n",
    "from collections import defaultdict\n",
    "\n",
    "def train_2(clf):\n",
    "    features = ['Age', 'Sex', 'Pclass','Title']\n",
    "    X = pd.get_dummies(df_train[features])\n",
    "    y_train=df_train['Survived']\n",
    "    y_test=df_test['Survived']\n",
    "    clf.fit(X, y)\n",
    "\n",
    "    X_test= pd.get_dummies(df_test[features])\n",
    "    result = clf.predict(X_test)\n",
    "\n",
    "def calc_best_classifier_params():\n",
    "    depth_error = defaultdict(list)\n",
    "    for i in range(5,20,5):\n",
    "        for j in range(5,100,5):\n",
    "            for _ in range(0,5):\n",
    "                clf=RandomForestClassifier(max_depth=i, n_estimators=j)\n",
    "                train_2(clf)            \n",
    "                rmse_result=rmse(y_test, result)\n",
    "                depth_error[(i,j)].append(rmse_result)\n",
    "\n",
    "    mean_and_std_dev={}\n",
    "    for key in depth_error:\n",
    "        mean= np.mean(depth_error[key])\n",
    "        std_dev= np.std(depth_error[key])\n",
    "        mean_and_std_dev[key] = (mean, std_dev)\n",
    "\n",
    "    return mean_and_std_dev\n"
   ]
  },
  {
   "cell_type": "code",
   "execution_count": 31,
   "id": "311ebcca",
   "metadata": {},
   "outputs": [],
   "source": [
    "import pandas as pd\n",
    "import numpy as np\n",
    "import seaborn as sns\n",
    "import matplotlib.pyplot as plt\n",
    "\n",
    "def plot_rmse_heatmap(mean_and_std_dev):\n",
    "    # 准备数据\n",
    "    depths = sorted(set(k[0] for k in mean_and_std_dev.keys()))\n",
    "    estimators = sorted(set(k[1] for k in mean_and_std_dev.keys()))\n",
    "\n",
    "    # 创建DataFrame存储结果\n",
    "    mean_df = pd.DataFrame(index=depths, columns=estimators)\n",
    "    std_df = pd.DataFrame(index=depths, columns=estimators)\n",
    "\n",
    "    for (depth, est), (mean, std) in mean_and_std_dev.items():\n",
    "        mean_df.loc[depth, est] = mean\n",
    "        std_df.loc[depth, est] = std\n",
    "\n",
    "    # 转换数据类型\n",
    "    mean_df = mean_df.astype(float)\n",
    "    std_df = std_df.astype(float)\n",
    "\n",
    "    # 创建画布\n",
    "    plt.figure(figsize=(18, 6))\n",
    "\n",
    "    # 第一个子图 - 均值热力图\n",
    "    plt.subplot(1, 2, 1)\n",
    "    sns.heatmap(mean_df, \n",
    "                annot=True, \n",
    "                fmt=\".3f\", \n",
    "                cmap=\"YlGnBu_r\",  # 反转颜色，使低值更好看\n",
    "                cbar_kws={'label': 'Mean RMSE'},\n",
    "                linewidths=0.5)\n",
    "    plt.title(\"Mean RMSE by Hyperparameters\")\n",
    "    plt.xlabel(\"Number of Estimators\")\n",
    "    plt.ylabel(\"Max Depth\")\n",
    "\n",
    "    # 第二个子图 - 标准差热力图\n",
    "    plt.subplot(1, 2, 2)\n",
    "    sns.heatmap(std_df, \n",
    "                annot=True, \n",
    "                fmt=\".3f\", \n",
    "                cmap=\"YlOrRd\",  # 黄色到红色渐变\n",
    "                cbar_kws={'label': 'Standard Deviation'},\n",
    "                linewidths=0.5)\n",
    "    plt.title(\"RMSE Standard Deviation by Hyperparameters\")\n",
    "    plt.xlabel(\"Number of Estimators\")\n",
    "    plt.ylabel(\"Max Depth\")\n",
    "\n",
    "    plt.tight_layout()\n",
    "    plt.show()"
   ]
  },
  {
   "cell_type": "markdown",
   "id": "0c2732cc",
   "metadata": {},
   "source": [
    "根据上图可以决定随机森林的两个参数，之后深度使用10，estimator使用100"
   ]
  },
  {
   "cell_type": "code",
   "execution_count": 32,
   "id": "5c1b03f469f49d47",
   "metadata": {
    "ExecuteTime": {
     "end_time": "2025-06-21T07:08:01.021829300Z",
     "start_time": "2025-06-21T06:36:11.563098Z"
    }
   },
   "outputs": [
    {
     "ename": "NotFittedError",
     "evalue": "This RandomForestClassifier instance is not fitted yet. Call 'fit' with appropriate arguments before using this estimator.",
     "output_type": "error",
     "traceback": [
      "\u001b[1;31m---------------------------------------------------------------------------\u001b[0m",
      "\u001b[1;31mNotFittedError\u001b[0m                            Traceback (most recent call last)",
      "Cell \u001b[1;32mIn[32], line 3\u001b[0m\n\u001b[0;32m      1\u001b[0m features \u001b[38;5;241m=\u001b[39m [\u001b[38;5;124m'\u001b[39m\u001b[38;5;124mAge\u001b[39m\u001b[38;5;124m'\u001b[39m, \u001b[38;5;124m'\u001b[39m\u001b[38;5;124mSex\u001b[39m\u001b[38;5;124m'\u001b[39m, \u001b[38;5;124m'\u001b[39m\u001b[38;5;124mPclass\u001b[39m\u001b[38;5;124m'\u001b[39m]\n\u001b[0;32m      2\u001b[0m X_test\u001b[38;5;241m=\u001b[39mpd\u001b[38;5;241m.\u001b[39mget_dummies(test_set[features])\n\u001b[1;32m----> 3\u001b[0m result \u001b[38;5;241m=\u001b[39m \u001b[43mclf\u001b[49m\u001b[38;5;241;43m.\u001b[39;49m\u001b[43mpredict\u001b[49m\u001b[43m(\u001b[49m\u001b[43mX_test\u001b[49m\u001b[43m)\u001b[49m\n\u001b[0;32m      4\u001b[0m \u001b[38;5;66;03m# to csv\u001b[39;00m\n\u001b[0;32m      5\u001b[0m \u001b[38;5;28mprint\u001b[39m(test_set[\u001b[38;5;124m'\u001b[39m\u001b[38;5;124mPassengerId\u001b[39m\u001b[38;5;124m'\u001b[39m])\n",
      "File \u001b[1;32mc:\\Home\\Github\\Titanic\\venv\\lib\\site-packages\\sklearn\\ensemble\\_forest.py:904\u001b[0m, in \u001b[0;36mForestClassifier.predict\u001b[1;34m(self, X)\u001b[0m\n\u001b[0;32m    883\u001b[0m \u001b[38;5;28;01mdef\u001b[39;00m\u001b[38;5;250m \u001b[39m\u001b[38;5;21mpredict\u001b[39m(\u001b[38;5;28mself\u001b[39m, X):\n\u001b[0;32m    884\u001b[0m \u001b[38;5;250m    \u001b[39m\u001b[38;5;124;03m\"\"\"\u001b[39;00m\n\u001b[0;32m    885\u001b[0m \u001b[38;5;124;03m    Predict class for X.\u001b[39;00m\n\u001b[0;32m    886\u001b[0m \n\u001b[1;32m   (...)\u001b[0m\n\u001b[0;32m    902\u001b[0m \u001b[38;5;124;03m        The predicted classes.\u001b[39;00m\n\u001b[0;32m    903\u001b[0m \u001b[38;5;124;03m    \"\"\"\u001b[39;00m\n\u001b[1;32m--> 904\u001b[0m     proba \u001b[38;5;241m=\u001b[39m \u001b[38;5;28;43mself\u001b[39;49m\u001b[38;5;241;43m.\u001b[39;49m\u001b[43mpredict_proba\u001b[49m\u001b[43m(\u001b[49m\u001b[43mX\u001b[49m\u001b[43m)\u001b[49m\n\u001b[0;32m    906\u001b[0m     \u001b[38;5;28;01mif\u001b[39;00m \u001b[38;5;28mself\u001b[39m\u001b[38;5;241m.\u001b[39mn_outputs_ \u001b[38;5;241m==\u001b[39m \u001b[38;5;241m1\u001b[39m:\n\u001b[0;32m    907\u001b[0m         \u001b[38;5;28;01mreturn\u001b[39;00m \u001b[38;5;28mself\u001b[39m\u001b[38;5;241m.\u001b[39mclasses_\u001b[38;5;241m.\u001b[39mtake(np\u001b[38;5;241m.\u001b[39margmax(proba, axis\u001b[38;5;241m=\u001b[39m\u001b[38;5;241m1\u001b[39m), axis\u001b[38;5;241m=\u001b[39m\u001b[38;5;241m0\u001b[39m)\n",
      "File \u001b[1;32mc:\\Home\\Github\\Titanic\\venv\\lib\\site-packages\\sklearn\\ensemble\\_forest.py:944\u001b[0m, in \u001b[0;36mForestClassifier.predict_proba\u001b[1;34m(self, X)\u001b[0m\n\u001b[0;32m    922\u001b[0m \u001b[38;5;28;01mdef\u001b[39;00m\u001b[38;5;250m \u001b[39m\u001b[38;5;21mpredict_proba\u001b[39m(\u001b[38;5;28mself\u001b[39m, X):\n\u001b[0;32m    923\u001b[0m \u001b[38;5;250m    \u001b[39m\u001b[38;5;124;03m\"\"\"\u001b[39;00m\n\u001b[0;32m    924\u001b[0m \u001b[38;5;124;03m    Predict class probabilities for X.\u001b[39;00m\n\u001b[0;32m    925\u001b[0m \n\u001b[1;32m   (...)\u001b[0m\n\u001b[0;32m    942\u001b[0m \u001b[38;5;124;03m        classes corresponds to that in the attribute :term:`classes_`.\u001b[39;00m\n\u001b[0;32m    943\u001b[0m \u001b[38;5;124;03m    \"\"\"\u001b[39;00m\n\u001b[1;32m--> 944\u001b[0m     \u001b[43mcheck_is_fitted\u001b[49m\u001b[43m(\u001b[49m\u001b[38;5;28;43mself\u001b[39;49m\u001b[43m)\u001b[49m\n\u001b[0;32m    945\u001b[0m     \u001b[38;5;66;03m# Check data\u001b[39;00m\n\u001b[0;32m    946\u001b[0m     X \u001b[38;5;241m=\u001b[39m \u001b[38;5;28mself\u001b[39m\u001b[38;5;241m.\u001b[39m_validate_X_predict(X)\n",
      "File \u001b[1;32mc:\\Home\\Github\\Titanic\\venv\\lib\\site-packages\\sklearn\\utils\\validation.py:1757\u001b[0m, in \u001b[0;36mcheck_is_fitted\u001b[1;34m(estimator, attributes, msg, all_or_any)\u001b[0m\n\u001b[0;32m   1754\u001b[0m     \u001b[38;5;28;01mreturn\u001b[39;00m\n\u001b[0;32m   1756\u001b[0m \u001b[38;5;28;01mif\u001b[39;00m \u001b[38;5;129;01mnot\u001b[39;00m _is_fitted(estimator, attributes, all_or_any):\n\u001b[1;32m-> 1757\u001b[0m     \u001b[38;5;28;01mraise\u001b[39;00m NotFittedError(msg \u001b[38;5;241m%\u001b[39m {\u001b[38;5;124m\"\u001b[39m\u001b[38;5;124mname\u001b[39m\u001b[38;5;124m\"\u001b[39m: \u001b[38;5;28mtype\u001b[39m(estimator)\u001b[38;5;241m.\u001b[39m\u001b[38;5;18m__name__\u001b[39m})\n",
      "\u001b[1;31mNotFittedError\u001b[0m: This RandomForestClassifier instance is not fitted yet. Call 'fit' with appropriate arguments before using this estimator."
     ]
    }
   ],
   "source": [
    "features = ['Age', 'Sex', 'Pclass']\n",
    "X_test=pd.get_dummies(test_set[features])\n",
    "result = clf.predict(X_test)\n",
    "# to csv\n",
    "print(test_set['PassengerId'])\n",
    "print(result)\n",
    "submission = pd.DataFrame({'PassengerId': test_set['PassengerId'], 'Survived': result})\n",
    "submission.to_csv('submission.csv', index=False)\n"
   ]
  }
 ],
 "metadata": {
  "kernelspec": {
   "display_name": "venv",
   "language": "python",
   "name": "python3"
  },
  "language_info": {
   "codemirror_mode": {
    "name": "ipython",
    "version": 3
   },
   "file_extension": ".py",
   "mimetype": "text/x-python",
   "name": "python",
   "nbconvert_exporter": "python",
   "pygments_lexer": "ipython3",
   "version": "3.9.13"
  }
 },
 "nbformat": 4,
 "nbformat_minor": 5
}
